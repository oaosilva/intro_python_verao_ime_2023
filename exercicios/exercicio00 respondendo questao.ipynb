{
 "cells": [
  {
   "cell_type": "markdown",
   "metadata": {
    "pycharm": {
     "name": "#%% md\n"
    }
   },
   "source": [
    "## Exercícios - aula 00"
   ]
  },
  {
   "cell_type": "markdown",
   "metadata": {
    "pycharm": {
     "name": "#%% md\n"
    }
   },
   "source": [
    "1) Quantos segundos há em uma hora? Multiplique o número de segundos em um minuto pelo número de minutos em uma hora.\n",
    "\n",
    "2) Armazene o resultado desta operacão em uma variável chamada *segundos_por_hora*\n",
    "\n",
    "3) Quantos segundos há em um dia? Use a sua variável *segundos_por_hora*. Armazene o resultado desta última operacão em uma variável chamada *segundos_por_dia*\n",
    "\n",
    "4) Divida segundos_por_dia por segundos_por_hora. Use a divisão do tipo floating-point division (tabela abaixo) e salve o resultado na variavel *div_float*.\n",
    "\n",
    "5) Divida a variável *segundos_por_dia* por *segundos_por_hora* novamente, porém usando a divisão do tipo integer division (tabela abaixo) e salve o resultado na variável *div_int*.\n",
    "\n",
    "6) Com excessão da casa decimal, o valor obtido na questão 6 é igual ao obtido na questão 5? Faca a comparacão dos resultados e diga qual o tipo de variável o Python retorna como resposta."
   ]
  },
  {
   "cell_type": "raw",
   "metadata": {
    "tags": []
   },
   "source": [
    "#Questão 1\n",
    "\n",
    "60*1"
   ]
  },
  {
   "cell_type": "raw",
   "metadata": {},
   "source": [
    "#Questão 2\n",
    "segundos_por_hora=60"
   ]
  },
  {
   "cell_type": "raw",
   "metadata": {},
   "source": [
    "#Questão 3\n",
    "segundos_por_hora*24\n"
   ]
  },
  {
   "cell_type": "code",
   "execution_count": 45,
   "metadata": {},
   "outputs": [],
   "source": [
    "segundos_por_dia=1440"
   ]
  },
  {
   "cell_type": "code",
   "execution_count": 46,
   "metadata": {},
   "outputs": [
    {
     "data": {
      "text/plain": [
       "24.0"
      ]
     },
     "execution_count": 46,
     "metadata": {},
     "output_type": "execute_result"
    }
   ],
   "source": [
    "#Questão 4\n",
    "segundos_por_dia/segundos_por_hora"
   ]
  },
  {
   "cell_type": "code",
   "execution_count": 42,
   "metadata": {},
   "outputs": [
    {
     "data": {
      "text/plain": [
       "24"
      ]
     },
     "execution_count": 42,
     "metadata": {},
     "output_type": "execute_result"
    }
   ],
   "source": [
    "#Questão 5\n",
    "segundos_por_dia//segundos_por_hora"
   ]
  },
  {
   "cell_type": "code",
   "execution_count": null,
   "metadata": {},
   "outputs": [],
   "source": [
    "#Questão 6\n",
    "#O valor é igual, porém uma é float e outra é int\n"
   ]
  }
 ],
 "metadata": {
  "kernelspec": {
   "display_name": "Python 3 (ipykernel)",
   "language": "python",
   "name": "python3"
  },
  "language_info": {
   "codemirror_mode": {
    "name": "ipython",
    "version": 3
   },
   "file_extension": ".py",
   "mimetype": "text/x-python",
   "name": "python",
   "nbconvert_exporter": "python",
   "pygments_lexer": "ipython3",
   "version": "3.10.4"
  }
 },
 "nbformat": 4,
 "nbformat_minor": 4
}
